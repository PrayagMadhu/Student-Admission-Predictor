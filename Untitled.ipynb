{
 "cells": [
  {
   "cell_type": "code",
   "execution_count": 1,
   "metadata": {
    "scrolled": true
   },
   "outputs": [],
   "source": [
    "import numpy as np\n",
    "import pandas as pd\n",
    "from numpy import genfromtxt\n",
    "\n",
    "data=genfromtxt('student_data.csv', delimiter=',')\n",
    "data=data[1:]\n",
    "labels=data[:, [0]]\n",
    "labels=np.array(pd.get_dummies(labels[:, 0]), dtype=np.float32)\n",
    "features=np.delete(data, [0], axis=1)\n",
    "ranks=features[:, [2]]\n",
    "ranks=ranks.astype(np.int32)\n",
    "one_hotRanks=pd.get_dummies(ranks[:,0])\n",
    "features=np.delete(features, [2], axis=1)\n",
    "features=np.concatenate((features, one_hotRanks), axis=1)\n",
    "features[:, 0]=features[:, 0]/800\n",
    "features[:, 1]=features[:, 1]/4.0\n",
    "features=features.astype(np.float32)\n"
   ]
  },
  {
   "cell_type": "code",
   "execution_count": 163,
   "metadata": {},
   "outputs": [],
   "source": [
    "train_features=features[:360]\n",
    "train_labels=labels[:360]\n",
    "test_features=features[360:]\n",
    "test_labels=labels[360:]\n",
    "valid_features=features[:50]\n",
    "valid_labels=labels[:50]\n"
   ]
  },
  {
   "cell_type": "code",
   "execution_count": 164,
   "metadata": {},
   "outputs": [],
   "source": [
    "import tensorflow as tf\n",
    "x=tf.placeholder(dtype=tf.float32, shape=[None, 6])\n",
    "y=tf.placeholder(dtype=tf.float32, shape=[None, 2])\n",
    "dropOut=tf.placeholder(dtype=tf.float32, shape=[])\n",
    "prob=[0.5,0.75,0.8]"
   ]
  },
  {
   "cell_type": "code",
   "execution_count": 165,
   "metadata": {},
   "outputs": [],
   "source": [
    "weights={'1':tf.Variable(tf.random_normal([6, 20])),\n",
    "        '2':tf.Variable(tf.random_normal([20, 40])),\n",
    "         '3':tf.Variable(tf.random_normal([40, 80])),\n",
    "         '4':tf.Variable(tf.random_normal([80, 100])),\n",
    "        'out':tf.Variable(tf.random_normal([100, 2]))}\n",
    "biases={'1':tf.Variable(tf.random_normal([20])),\n",
    "        '2':tf.Variable(tf.random_normal([40])),\n",
    "        '3':tf.Variable(tf.random_normal([80])),\n",
    "        '4':tf.Variable(tf.random_normal([100])),\n",
    "        'out':tf.Variable(tf.random_normal([2]))}"
   ]
  },
  {
   "cell_type": "code",
   "execution_count": 166,
   "metadata": {},
   "outputs": [],
   "source": [
    "layer1=tf.nn.sigmoid(tf.add(tf.matmul(x, weights['1']), biases['1']))\n",
    "#tf.nn.dropout(layer1, keep_prob=dropOut)\n",
    "layer2=tf.nn.sigmoid(tf.add(tf.matmul(layer1, weights['2']), biases['2']))\n",
    "tf.nn.dropout(layer2, keep_prob=dropOut)\n",
    "layer3=tf.nn.sigmoid(tf.add(tf.matmul(layer2, weights['3']), biases['3']))\n",
    "tf.nn.dropout(layer3, keep_prob=dropOut)\n",
    "layer4=tf.nn.sigmoid(tf.add(tf.matmul(layer3, weights['4']), biases['4']))\n",
    "tf.nn.dropout(layer4, keep_prob=dropOut)\n",
    "out=tf.nn.sigmoid(tf.add(tf.matmul(layer4, weights['out']), biases['out']))"
   ]
  },
  {
   "cell_type": "code",
   "execution_count": 167,
   "metadata": {},
   "outputs": [],
   "source": [
    "cost=tf.nn.sigmoid_cross_entropy_with_logits(logits=out, labels=y)\n",
    "optm=tf.train.GradientDescentOptimizer(learning_rate=0.001).minimize(cost)\n",
    "correct_pred=tf.equal(tf.argmax(out, 1), tf.argmax(y, 1))\n",
    "accuracy=tf.reduce_mean(tf.cast(correct_pred, tf.float32))\n"
   ]
  },
  {
   "cell_type": "code",
   "execution_count": null,
   "metadata": {},
   "outputs": [],
   "source": [
    "with tf.Session() as sess:\n",
    "    sess.run(tf.global_variables_initializer())\n",
    "    for i in range(100):\n",
    "        dropVal=prob[np.random.randint(3)]\n",
    "        sess.run(optm, feed_dict={x:train_features, y:train_labels, dropOut:0.8})\n",
    "        if (i%5==0):\n",
    "            acc=sess.run(accuracy, feed_dict={x:valid_features, y:valid_labels, dropOut:0.5})\n",
    "            print(\"epoch : {}\".format(i))\n",
    "            print(\"training acc - {}\".format(acc))\n",
    "            print(\"============\")\n",
    "    accuracy=sess.run(accuracy, feed_dict={x:test_features, y:test_labels, dropOut:0.5})\n",
    "    print(\"model acc  = {}\".format(accuracy))"
   ]
  }
 ],
 "metadata": {
  "kernelspec": {
   "display_name": "Python 3",
   "language": "python",
   "name": "python3"
  },
  "language_info": {
   "codemirror_mode": {
    "name": "ipython",
    "version": 3
   },
   "file_extension": ".py",
   "mimetype": "text/x-python",
   "name": "python",
   "nbconvert_exporter": "python",
   "pygments_lexer": "ipython3",
   "version": "3.6.6"
  }
 },
 "nbformat": 4,
 "nbformat_minor": 2
}
